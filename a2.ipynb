{
 "cells": [
  {
   "cell_type": "markdown",
   "id": "df9989f4-3c03-4217-81e0-78d952e4fa12",
   "metadata": {},
   "source": [
    " ## THIRUMALA LAXMI TANUJA\n"
   ]
  },
  {
   "cell_type": "code",
   "execution_count": 1,
   "id": "48bd05f7-4e23-43c3-bf3d-5155ee77600a",
   "metadata": {},
   "outputs": [],
   "source": [
    "# Download the data locally\n",
    "\n",
    "import os\n",
    "from urllib.request import urlretrieve\n",
    "import gzip\n",
    "\n",
    "# download the data if we don't have it locally\n",
    "url = \"http://faculty.cs.niu.edu/~dakoop/cs640-2023sp/a1/aam-salary-survey.csv.gz\"\n",
    "local_fname = \"aam-salary-survey.csv.gz\"\n",
    "if not os.path.exists(local_fname):\n",
    "    urlretrieve(url, local_fname)"
   ]
  },
  {
   "cell_type": "markdown",
   "id": "ca78c678-8a0a-4dc0-b373-3e298ae1e975",
   "metadata": {},
   "source": [
    "# 1. Pandas"
   ]
  },
  {
   "cell_type": "markdown",
   "id": "8abcc57b-1880-4817-97a9-b496fb995335",
   "metadata": {},
   "source": [
    "## a. Maximum Number of States Selected"
   ]
  },
  {
   "cell_type": "code",
   "execution_count": 2,
   "id": "e5271311-c111-416f-9256-809be375cd61",
   "metadata": {},
   "outputs": [],
   "source": [
    "import pandas as pd\n",
    "import numpy as np"
   ]
  },
  {
   "cell_type": "code",
   "execution_count": 3,
   "id": "234ea919-fddf-4dec-b019-4f4287f74a82",
   "metadata": {},
   "outputs": [
    {
     "name": "stdout",
     "output_type": "stream",
     "text": [
      "The job title and salary associated with the entry that has the most states selected are shown below\n",
      "Job Title : Project Controls Consultant\n",
      "Salary    : 125,000\n"
     ]
    }
   ],
   "source": [
    "dataframe = pd.read_csv(\"aam-salary-survey.csv.gz\", compression = 'gzip')\n",
    "df = dataframe.copy()\n",
    "df['State_count'] = df['State'].apply(lambda x : len(x.split(',')) if isinstance(x, str) else np.nan)\n",
    "max_states_index = df['State_count'].idxmax()\n",
    "print(\"The job title and salary associated with the entry that has the most states selected are shown below\")\n",
    "print(f\"Job Title : {df.loc[max_states_index]['JobTitle']}\")\n",
    "print(f\"Salary    : {df.loc[max_states_index]['Salary']}\")"
   ]
  },
  {
   "cell_type": "code",
   "execution_count": 7,
   "id": "33c42c68",
   "metadata": {},
   "outputs": [
    {
     "ename": "KeyError",
     "evalue": "\"None of [Index(['Timestamp', 'Age'], dtype='object')] are in the [index]\"",
     "output_type": "error",
     "traceback": [
      "\u001b[1;31m---------------------------------------------------------------------------\u001b[0m",
      "\u001b[1;31mKeyError\u001b[0m                                  Traceback (most recent call last)",
      "\u001b[1;32m~\\AppData\\Local\\Temp\\ipykernel_8388\\815193885.py\u001b[0m in \u001b[0;36m<module>\u001b[1;34m\u001b[0m\n\u001b[1;32m----> 1\u001b[1;33m \u001b[0mdf\u001b[0m\u001b[1;33m.\u001b[0m\u001b[0mloc\u001b[0m\u001b[1;33m[\u001b[0m\u001b[1;33m[\u001b[0m\u001b[1;34m'Timestamp'\u001b[0m\u001b[1;33m,\u001b[0m \u001b[1;34m'Age'\u001b[0m\u001b[1;33m]\u001b[0m\u001b[1;33m]\u001b[0m\u001b[1;33m\u001b[0m\u001b[1;33m\u001b[0m\u001b[0m\n\u001b[0m",
      "\u001b[1;32m~\\anaconda3\\lib\\site-packages\\pandas\\core\\indexing.py\u001b[0m in \u001b[0;36m__getitem__\u001b[1;34m(self, key)\u001b[0m\n\u001b[0;32m    965\u001b[0m \u001b[1;33m\u001b[0m\u001b[0m\n\u001b[0;32m    966\u001b[0m             \u001b[0mmaybe_callable\u001b[0m \u001b[1;33m=\u001b[0m \u001b[0mcom\u001b[0m\u001b[1;33m.\u001b[0m\u001b[0mapply_if_callable\u001b[0m\u001b[1;33m(\u001b[0m\u001b[0mkey\u001b[0m\u001b[1;33m,\u001b[0m \u001b[0mself\u001b[0m\u001b[1;33m.\u001b[0m\u001b[0mobj\u001b[0m\u001b[1;33m)\u001b[0m\u001b[1;33m\u001b[0m\u001b[1;33m\u001b[0m\u001b[0m\n\u001b[1;32m--> 967\u001b[1;33m             \u001b[1;32mreturn\u001b[0m \u001b[0mself\u001b[0m\u001b[1;33m.\u001b[0m\u001b[0m_getitem_axis\u001b[0m\u001b[1;33m(\u001b[0m\u001b[0mmaybe_callable\u001b[0m\u001b[1;33m,\u001b[0m \u001b[0maxis\u001b[0m\u001b[1;33m=\u001b[0m\u001b[0maxis\u001b[0m\u001b[1;33m)\u001b[0m\u001b[1;33m\u001b[0m\u001b[1;33m\u001b[0m\u001b[0m\n\u001b[0m\u001b[0;32m    968\u001b[0m \u001b[1;33m\u001b[0m\u001b[0m\n\u001b[0;32m    969\u001b[0m     \u001b[1;32mdef\u001b[0m \u001b[0m_is_scalar_access\u001b[0m\u001b[1;33m(\u001b[0m\u001b[0mself\u001b[0m\u001b[1;33m,\u001b[0m \u001b[0mkey\u001b[0m\u001b[1;33m:\u001b[0m \u001b[0mtuple\u001b[0m\u001b[1;33m)\u001b[0m\u001b[1;33m:\u001b[0m\u001b[1;33m\u001b[0m\u001b[1;33m\u001b[0m\u001b[0m\n",
      "\u001b[1;32m~\\anaconda3\\lib\\site-packages\\pandas\\core\\indexing.py\u001b[0m in \u001b[0;36m_getitem_axis\u001b[1;34m(self, key, axis)\u001b[0m\n\u001b[0;32m   1192\u001b[0m                     \u001b[1;32mraise\u001b[0m \u001b[0mValueError\u001b[0m\u001b[1;33m(\u001b[0m\u001b[1;34m\"Cannot index with multidimensional key\"\u001b[0m\u001b[1;33m)\u001b[0m\u001b[1;33m\u001b[0m\u001b[1;33m\u001b[0m\u001b[0m\n\u001b[0;32m   1193\u001b[0m \u001b[1;33m\u001b[0m\u001b[0m\n\u001b[1;32m-> 1194\u001b[1;33m                 \u001b[1;32mreturn\u001b[0m \u001b[0mself\u001b[0m\u001b[1;33m.\u001b[0m\u001b[0m_getitem_iterable\u001b[0m\u001b[1;33m(\u001b[0m\u001b[0mkey\u001b[0m\u001b[1;33m,\u001b[0m \u001b[0maxis\u001b[0m\u001b[1;33m=\u001b[0m\u001b[0maxis\u001b[0m\u001b[1;33m)\u001b[0m\u001b[1;33m\u001b[0m\u001b[1;33m\u001b[0m\u001b[0m\n\u001b[0m\u001b[0;32m   1195\u001b[0m \u001b[1;33m\u001b[0m\u001b[0m\n\u001b[0;32m   1196\u001b[0m             \u001b[1;31m# nested tuple slicing\u001b[0m\u001b[1;33m\u001b[0m\u001b[1;33m\u001b[0m\u001b[0m\n",
      "\u001b[1;32m~\\anaconda3\\lib\\site-packages\\pandas\\core\\indexing.py\u001b[0m in \u001b[0;36m_getitem_iterable\u001b[1;34m(self, key, axis)\u001b[0m\n\u001b[0;32m   1130\u001b[0m \u001b[1;33m\u001b[0m\u001b[0m\n\u001b[0;32m   1131\u001b[0m         \u001b[1;31m# A collection of keys\u001b[0m\u001b[1;33m\u001b[0m\u001b[1;33m\u001b[0m\u001b[0m\n\u001b[1;32m-> 1132\u001b[1;33m         \u001b[0mkeyarr\u001b[0m\u001b[1;33m,\u001b[0m \u001b[0mindexer\u001b[0m \u001b[1;33m=\u001b[0m \u001b[0mself\u001b[0m\u001b[1;33m.\u001b[0m\u001b[0m_get_listlike_indexer\u001b[0m\u001b[1;33m(\u001b[0m\u001b[0mkey\u001b[0m\u001b[1;33m,\u001b[0m \u001b[0maxis\u001b[0m\u001b[1;33m)\u001b[0m\u001b[1;33m\u001b[0m\u001b[1;33m\u001b[0m\u001b[0m\n\u001b[0m\u001b[0;32m   1133\u001b[0m         return self.obj._reindex_with_indexers(\n\u001b[0;32m   1134\u001b[0m             \u001b[1;33m{\u001b[0m\u001b[0maxis\u001b[0m\u001b[1;33m:\u001b[0m \u001b[1;33m[\u001b[0m\u001b[0mkeyarr\u001b[0m\u001b[1;33m,\u001b[0m \u001b[0mindexer\u001b[0m\u001b[1;33m]\u001b[0m\u001b[1;33m}\u001b[0m\u001b[1;33m,\u001b[0m \u001b[0mcopy\u001b[0m\u001b[1;33m=\u001b[0m\u001b[1;32mTrue\u001b[0m\u001b[1;33m,\u001b[0m \u001b[0mallow_dups\u001b[0m\u001b[1;33m=\u001b[0m\u001b[1;32mTrue\u001b[0m\u001b[1;33m\u001b[0m\u001b[1;33m\u001b[0m\u001b[0m\n",
      "\u001b[1;32m~\\anaconda3\\lib\\site-packages\\pandas\\core\\indexing.py\u001b[0m in \u001b[0;36m_get_listlike_indexer\u001b[1;34m(self, key, axis)\u001b[0m\n\u001b[0;32m   1328\u001b[0m         \u001b[0maxis_name\u001b[0m \u001b[1;33m=\u001b[0m \u001b[0mself\u001b[0m\u001b[1;33m.\u001b[0m\u001b[0mobj\u001b[0m\u001b[1;33m.\u001b[0m\u001b[0m_get_axis_name\u001b[0m\u001b[1;33m(\u001b[0m\u001b[0maxis\u001b[0m\u001b[1;33m)\u001b[0m\u001b[1;33m\u001b[0m\u001b[1;33m\u001b[0m\u001b[0m\n\u001b[0;32m   1329\u001b[0m \u001b[1;33m\u001b[0m\u001b[0m\n\u001b[1;32m-> 1330\u001b[1;33m         \u001b[0mkeyarr\u001b[0m\u001b[1;33m,\u001b[0m \u001b[0mindexer\u001b[0m \u001b[1;33m=\u001b[0m \u001b[0max\u001b[0m\u001b[1;33m.\u001b[0m\u001b[0m_get_indexer_strict\u001b[0m\u001b[1;33m(\u001b[0m\u001b[0mkey\u001b[0m\u001b[1;33m,\u001b[0m \u001b[0maxis_name\u001b[0m\u001b[1;33m)\u001b[0m\u001b[1;33m\u001b[0m\u001b[1;33m\u001b[0m\u001b[0m\n\u001b[0m\u001b[0;32m   1331\u001b[0m \u001b[1;33m\u001b[0m\u001b[0m\n\u001b[0;32m   1332\u001b[0m         \u001b[1;32mreturn\u001b[0m \u001b[0mkeyarr\u001b[0m\u001b[1;33m,\u001b[0m \u001b[0mindexer\u001b[0m\u001b[1;33m\u001b[0m\u001b[1;33m\u001b[0m\u001b[0m\n",
      "\u001b[1;32m~\\anaconda3\\lib\\site-packages\\pandas\\core\\indexes\\base.py\u001b[0m in \u001b[0;36m_get_indexer_strict\u001b[1;34m(self, key, axis_name)\u001b[0m\n\u001b[0;32m   5794\u001b[0m             \u001b[0mkeyarr\u001b[0m\u001b[1;33m,\u001b[0m \u001b[0mindexer\u001b[0m\u001b[1;33m,\u001b[0m \u001b[0mnew_indexer\u001b[0m \u001b[1;33m=\u001b[0m \u001b[0mself\u001b[0m\u001b[1;33m.\u001b[0m\u001b[0m_reindex_non_unique\u001b[0m\u001b[1;33m(\u001b[0m\u001b[0mkeyarr\u001b[0m\u001b[1;33m)\u001b[0m\u001b[1;33m\u001b[0m\u001b[1;33m\u001b[0m\u001b[0m\n\u001b[0;32m   5795\u001b[0m \u001b[1;33m\u001b[0m\u001b[0m\n\u001b[1;32m-> 5796\u001b[1;33m         \u001b[0mself\u001b[0m\u001b[1;33m.\u001b[0m\u001b[0m_raise_if_missing\u001b[0m\u001b[1;33m(\u001b[0m\u001b[0mkeyarr\u001b[0m\u001b[1;33m,\u001b[0m \u001b[0mindexer\u001b[0m\u001b[1;33m,\u001b[0m \u001b[0maxis_name\u001b[0m\u001b[1;33m)\u001b[0m\u001b[1;33m\u001b[0m\u001b[1;33m\u001b[0m\u001b[0m\n\u001b[0m\u001b[0;32m   5797\u001b[0m \u001b[1;33m\u001b[0m\u001b[0m\n\u001b[0;32m   5798\u001b[0m         \u001b[0mkeyarr\u001b[0m \u001b[1;33m=\u001b[0m \u001b[0mself\u001b[0m\u001b[1;33m.\u001b[0m\u001b[0mtake\u001b[0m\u001b[1;33m(\u001b[0m\u001b[0mindexer\u001b[0m\u001b[1;33m)\u001b[0m\u001b[1;33m\u001b[0m\u001b[1;33m\u001b[0m\u001b[0m\n",
      "\u001b[1;32m~\\anaconda3\\lib\\site-packages\\pandas\\core\\indexes\\base.py\u001b[0m in \u001b[0;36m_raise_if_missing\u001b[1;34m(self, key, indexer, axis_name)\u001b[0m\n\u001b[0;32m   5854\u001b[0m                 \u001b[1;32mif\u001b[0m \u001b[0muse_interval_msg\u001b[0m\u001b[1;33m:\u001b[0m\u001b[1;33m\u001b[0m\u001b[1;33m\u001b[0m\u001b[0m\n\u001b[0;32m   5855\u001b[0m                     \u001b[0mkey\u001b[0m \u001b[1;33m=\u001b[0m \u001b[0mlist\u001b[0m\u001b[1;33m(\u001b[0m\u001b[0mkey\u001b[0m\u001b[1;33m)\u001b[0m\u001b[1;33m\u001b[0m\u001b[1;33m\u001b[0m\u001b[0m\n\u001b[1;32m-> 5856\u001b[1;33m                 \u001b[1;32mraise\u001b[0m \u001b[0mKeyError\u001b[0m\u001b[1;33m(\u001b[0m\u001b[1;34mf\"None of [{key}] are in the [{axis_name}]\"\u001b[0m\u001b[1;33m)\u001b[0m\u001b[1;33m\u001b[0m\u001b[1;33m\u001b[0m\u001b[0m\n\u001b[0m\u001b[0;32m   5857\u001b[0m \u001b[1;33m\u001b[0m\u001b[0m\n\u001b[0;32m   5858\u001b[0m             \u001b[0mnot_found\u001b[0m \u001b[1;33m=\u001b[0m \u001b[0mlist\u001b[0m\u001b[1;33m(\u001b[0m\u001b[0mensure_index\u001b[0m\u001b[1;33m(\u001b[0m\u001b[0mkey\u001b[0m\u001b[1;33m)\u001b[0m\u001b[1;33m[\u001b[0m\u001b[0mmissing_mask\u001b[0m\u001b[1;33m.\u001b[0m\u001b[0mnonzero\u001b[0m\u001b[1;33m(\u001b[0m\u001b[1;33m)\u001b[0m\u001b[1;33m[\u001b[0m\u001b[1;36m0\u001b[0m\u001b[1;33m]\u001b[0m\u001b[1;33m]\u001b[0m\u001b[1;33m.\u001b[0m\u001b[0munique\u001b[0m\u001b[1;33m(\u001b[0m\u001b[1;33m)\u001b[0m\u001b[1;33m)\u001b[0m\u001b[1;33m\u001b[0m\u001b[1;33m\u001b[0m\u001b[0m\n",
      "\u001b[1;31mKeyError\u001b[0m: \"None of [Index(['Timestamp', 'Age'], dtype='object')] are in the [index]\""
     ]
    }
   ],
   "source": [
    "df.loc[['Timestamp', 'Age']]"
   ]
  },
  {
   "cell_type": "markdown",
   "id": "70415d8e-5139-418e-ba7e-5245c4984aed",
   "metadata": {},
   "source": [
    "## b. Number of Participants Working in Illinois "
   ]
  },
  {
   "cell_type": "code",
   "execution_count": 49,
   "id": "d41ca778-8288-4410-a7b2-68c2682b98a7",
   "metadata": {},
   "outputs": [
    {
     "name": "stdout",
     "output_type": "stream",
     "text": [
      "Number of participants working in Illinois is 1216\n"
     ]
    }
   ],
   "source": [
    "df['State'] = df['State'].str.split(',')\n",
    "df_exploded = df.explode('State')\n",
    "participant_count = df_exploded[df_exploded['State'].str.strip() == 'Illinois'].shape[0]\n",
    "print(f\"Number of participants working in Illinois is {participant_count}\")"
   ]
  },
  {
   "cell_type": "markdown",
   "id": "4daabfe1-58c9-464c-a2d0-d7e566ce7b82",
   "metadata": {},
   "source": [
    "## c. Highest US Salary "
   ]
  },
  {
   "cell_type": "code",
   "execution_count": 50,
   "id": "37fe3874-9caa-4a2c-b679-d476e1bc468b",
   "metadata": {},
   "outputs": [
    {
     "data": {
      "text/plain": [
       "102000000"
      ]
     },
     "execution_count": 50,
     "metadata": {},
     "output_type": "execute_result"
    }
   ],
   "source": [
    "df['Salary'] = df['Salary'].str.replace(',', \"\").astype(int)\n",
    "df[df['Currency'] == \"USD\"]['Salary'].max()"
   ]
  },
  {
   "cell_type": "markdown",
   "id": "5e6d89b7-5a0c-4a33-bb0a-b49fa75ba511",
   "metadata": {},
   "source": [
    "## d. Latest Entry in 2021 "
   ]
  },
  {
   "cell_type": "code",
   "execution_count": 51,
   "id": "310f6ac9-2b16-4d85-a04a-9172124e244a",
   "metadata": {},
   "outputs": [
    {
     "data": {
      "text/plain": [
       "85000"
      ]
     },
     "execution_count": 51,
     "metadata": {},
     "output_type": "execute_result"
    }
   ],
   "source": [
    "df = df.assign(TimeStampObject = pd.to_datetime(df[\"Timestamp\"]))\n",
    "index = df[df[\"TimeStampObject\"].dt.year == 2021][\"TimeStampObject\"].idxmax()\n",
    "df.loc[index]['Salary']"
   ]
  },
  {
   "cell_type": "markdown",
   "id": "b7cb4cb3-e661-42d9-838c-1a7713cbc794",
   "metadata": {},
   "source": [
    "## e. Top 10 Ways to Identify the U.S."
   ]
  },
  {
   "cell_type": "code",
   "execution_count": 52,
   "id": "b72ad1a9-32d2-4af7-8cfd-a0102ba7d27c",
   "metadata": {},
   "outputs": [
    {
     "data": {
      "text/plain": [
       "United States               8885\n",
       "USA                         7851\n",
       "US                          2585\n",
       "United States                657\n",
       "U.S.                         571\n",
       "USA                          464\n",
       "Usa                          443\n",
       "United States of America     424\n",
       "United states                205\n",
       "usa                          182\n",
       "Name: Country, dtype: int64"
      ]
     },
     "execution_count": 52,
     "metadata": {},
     "output_type": "execute_result"
    }
   ],
   "source": [
    "us_counts = df[df['State'].notnull()]['Country'].value_counts()\n",
    "us_counts.head(10)"
   ]
  },
  {
   "cell_type": "markdown",
   "id": "e1b9efb3-4f41-45eb-b7e5-2f125e529454",
   "metadata": {},
   "source": [
    "# 2. DuckDB"
   ]
  },
  {
   "cell_type": "markdown",
   "id": "7abcc5c0-20f2-4d47-ba6d-90bcff3a7cd9",
   "metadata": {},
   "source": [
    "## a. Maximum Number of States Selected "
   ]
  },
  {
   "cell_type": "code",
   "execution_count": 68,
   "id": "f1fa6e1f-78c9-48ae-9063-4e4d9a1b7057",
   "metadata": {},
   "outputs": [
    {
     "data": {
      "text/plain": [
       "[('[Project Controls Consultant, 125,000]',)]"
      ]
     },
     "execution_count": 68,
     "metadata": {},
     "output_type": "execute_result"
    }
   ],
   "source": [
    "import duckdb\n",
    "con = duckdb.connect(database=':memory:')\n",
    "con.execute(\"CREATE TABLE salarysurvey AS SELECT * FROM read_csv_auto('aam-salary-survey.csv.gz', COMPRESSION ='gzip' )\")\n",
    "query = \"\"\" \n",
    "\n",
    "WITH temp_table AS (SELECT JobTitle, Salary, str_split(State, ',') as states_list FROM salarysurvey)\n",
    "SELECT  arg_max([JobTitle,Salary], len(states_list)) FROM temp_table\n",
    "\"\"\"\n",
    "res = con.execute(query).fetchall()\n",
    "res"
   ]
  },
  {
   "cell_type": "markdown",
   "id": "7d72a5ee-7a35-4eb3-917d-70e0e2f5b5b9",
   "metadata": {},
   "source": [
    "## b. Number of Participants Working in Illinois"
   ]
  },
  {
   "cell_type": "code",
   "execution_count": 54,
   "id": "cda6d487-84d6-4249-b678-b8cddfb3d9a5",
   "metadata": {},
   "outputs": [
    {
     "data": {
      "text/html": [
       "<div>\n",
       "<style scoped>\n",
       "    .dataframe tbody tr th:only-of-type {\n",
       "        vertical-align: middle;\n",
       "    }\n",
       "\n",
       "    .dataframe tbody tr th {\n",
       "        vertical-align: top;\n",
       "    }\n",
       "\n",
       "    .dataframe thead th {\n",
       "        text-align: right;\n",
       "    }\n",
       "</style>\n",
       "<table border=\"1\" class=\"dataframe\">\n",
       "  <thead>\n",
       "    <tr style=\"text-align: right;\">\n",
       "      <th></th>\n",
       "      <th>IL_partcipants</th>\n",
       "    </tr>\n",
       "  </thead>\n",
       "  <tbody>\n",
       "    <tr>\n",
       "      <th>0</th>\n",
       "      <td>1216</td>\n",
       "    </tr>\n",
       "  </tbody>\n",
       "</table>\n",
       "</div>"
      ],
      "text/plain": [
       "   IL_partcipants\n",
       "0            1216"
      ]
     },
     "execution_count": 54,
     "metadata": {},
     "output_type": "execute_result"
    }
   ],
   "source": [
    "query = \"\"\"SELECT COUNT(*) as IL_partcipants\n",
    "FROM (\n",
    "  SELECT UNNEST(str_split(State, ',')) AS state\n",
    "  FROM salarysurvey\n",
    ") \n",
    "WHERE state LIKE '%Illinois%';\n",
    "\n",
    "\"\"\"\n",
    "res = con.execute(query).fetch_df()\n",
    "res"
   ]
  },
  {
   "cell_type": "markdown",
   "id": "9b11cc17-cb98-4520-a917-d94bf283bf62",
   "metadata": {},
   "source": [
    "## c. Highest US Salary"
   ]
  },
  {
   "cell_type": "code",
   "execution_count": 55,
   "id": "d575bb76-3c18-40eb-95fa-31c2054e18f6",
   "metadata": {},
   "outputs": [
    {
     "data": {
      "text/html": [
       "<div>\n",
       "<style scoped>\n",
       "    .dataframe tbody tr th:only-of-type {\n",
       "        vertical-align: middle;\n",
       "    }\n",
       "\n",
       "    .dataframe tbody tr th {\n",
       "        vertical-align: top;\n",
       "    }\n",
       "\n",
       "    .dataframe thead th {\n",
       "        text-align: right;\n",
       "    }\n",
       "</style>\n",
       "<table border=\"1\" class=\"dataframe\">\n",
       "  <thead>\n",
       "    <tr style=\"text-align: right;\">\n",
       "      <th></th>\n",
       "      <th>highest_salary</th>\n",
       "    </tr>\n",
       "  </thead>\n",
       "  <tbody>\n",
       "    <tr>\n",
       "      <th>0</th>\n",
       "      <td>102000000</td>\n",
       "    </tr>\n",
       "  </tbody>\n",
       "</table>\n",
       "</div>"
      ],
      "text/plain": [
       "   highest_salary\n",
       "0       102000000"
      ]
     },
     "execution_count": 55,
     "metadata": {},
     "output_type": "execute_result"
    }
   ],
   "source": [
    "query = \"\"\" SELECT MAX(Salary) AS highest_salary \n",
    "FROM (\n",
    "SELECT TRY_CAST(replace(Salary, ',', '') AS INTEGER) AS Salary, Currency \n",
    "FROM salarysurvey\n",
    ")\n",
    "WHERE Currency = 'USD' \"\"\" \n",
    "res = con.execute(query).fetch_df()\n",
    "res"
   ]
  },
  {
   "cell_type": "markdown",
   "id": "93430316-3e6f-4ea1-8f5d-5684b1054bee",
   "metadata": {},
   "source": [
    "## d. Latest Entry in 2021"
   ]
  },
  {
   "cell_type": "code",
   "execution_count": 56,
   "id": "cb23c5da-05c1-40ab-9d18-8f70f0d6e343",
   "metadata": {},
   "outputs": [
    {
     "data": {
      "text/html": [
       "<div>\n",
       "<style scoped>\n",
       "    .dataframe tbody tr th:only-of-type {\n",
       "        vertical-align: middle;\n",
       "    }\n",
       "\n",
       "    .dataframe tbody tr th {\n",
       "        vertical-align: top;\n",
       "    }\n",
       "\n",
       "    .dataframe thead th {\n",
       "        text-align: right;\n",
       "    }\n",
       "</style>\n",
       "<table border=\"1\" class=\"dataframe\">\n",
       "  <thead>\n",
       "    <tr style=\"text-align: right;\">\n",
       "      <th></th>\n",
       "      <th>Salary</th>\n",
       "    </tr>\n",
       "  </thead>\n",
       "  <tbody>\n",
       "    <tr>\n",
       "      <th>0</th>\n",
       "      <td>85000</td>\n",
       "    </tr>\n",
       "  </tbody>\n",
       "</table>\n",
       "</div>"
      ],
      "text/plain": [
       "  Salary\n",
       "0  85000"
      ]
     },
     "execution_count": 56,
     "metadata": {},
     "output_type": "execute_result"
    }
   ],
   "source": [
    "query = \"\"\"\n",
    "WITH temp_table AS \n",
    "    (\n",
    "    SELECT Salary, strptime(Timestamp, '%m/%d/%Y %H:%M:%S') AS datatime \n",
    "    FROM salarysurvey\n",
    "    )\n",
    "SELECT Salary\n",
    "FROM temp_table\n",
    "WHERE datatime = (SELECT MAX(datatime)\n",
    "FROM temp_table\n",
    "WHERE EXTRACT(year FROM datatime) = 2021)\n",
    "\"\"\"\n",
    "res = con.execute(query).fetch_df()\n",
    "res"
   ]
  },
  {
   "cell_type": "markdown",
   "id": "496195ff-adb4-4432-9d31-ba1177163ccf",
   "metadata": {},
   "source": [
    "## e. Top 10 Ways to Identify the U.S. "
   ]
  },
  {
   "cell_type": "code",
   "execution_count": 57,
   "id": "dde59e65-94b8-49bd-8531-83cdb2d79f1f",
   "metadata": {},
   "outputs": [
    {
     "data": {
      "text/html": [
       "<div>\n",
       "<style scoped>\n",
       "    .dataframe tbody tr th:only-of-type {\n",
       "        vertical-align: middle;\n",
       "    }\n",
       "\n",
       "    .dataframe tbody tr th {\n",
       "        vertical-align: top;\n",
       "    }\n",
       "\n",
       "    .dataframe thead th {\n",
       "        text-align: right;\n",
       "    }\n",
       "</style>\n",
       "<table border=\"1\" class=\"dataframe\">\n",
       "  <thead>\n",
       "    <tr style=\"text-align: right;\">\n",
       "      <th></th>\n",
       "      <th>Country</th>\n",
       "      <th>Total_count</th>\n",
       "    </tr>\n",
       "  </thead>\n",
       "  <tbody>\n",
       "    <tr>\n",
       "      <th>0</th>\n",
       "      <td>United States</td>\n",
       "      <td>8885</td>\n",
       "    </tr>\n",
       "    <tr>\n",
       "      <th>1</th>\n",
       "      <td>USA</td>\n",
       "      <td>7851</td>\n",
       "    </tr>\n",
       "    <tr>\n",
       "      <th>2</th>\n",
       "      <td>US</td>\n",
       "      <td>2585</td>\n",
       "    </tr>\n",
       "    <tr>\n",
       "      <th>3</th>\n",
       "      <td>United States</td>\n",
       "      <td>657</td>\n",
       "    </tr>\n",
       "    <tr>\n",
       "      <th>4</th>\n",
       "      <td>U.S.</td>\n",
       "      <td>571</td>\n",
       "    </tr>\n",
       "    <tr>\n",
       "      <th>5</th>\n",
       "      <td>USA</td>\n",
       "      <td>464</td>\n",
       "    </tr>\n",
       "    <tr>\n",
       "      <th>6</th>\n",
       "      <td>Usa</td>\n",
       "      <td>443</td>\n",
       "    </tr>\n",
       "    <tr>\n",
       "      <th>7</th>\n",
       "      <td>United States of America</td>\n",
       "      <td>424</td>\n",
       "    </tr>\n",
       "    <tr>\n",
       "      <th>8</th>\n",
       "      <td>United states</td>\n",
       "      <td>205</td>\n",
       "    </tr>\n",
       "    <tr>\n",
       "      <th>9</th>\n",
       "      <td>usa</td>\n",
       "      <td>182</td>\n",
       "    </tr>\n",
       "  </tbody>\n",
       "</table>\n",
       "</div>"
      ],
      "text/plain": [
       "                    Country  Total_count\n",
       "0             United States         8885\n",
       "1                       USA         7851\n",
       "2                        US         2585\n",
       "3            United States           657\n",
       "4                      U.S.          571\n",
       "5                      USA           464\n",
       "6                       Usa          443\n",
       "7  United States of America          424\n",
       "8             United states          205\n",
       "9                       usa          182"
      ]
     },
     "execution_count": 57,
     "metadata": {},
     "output_type": "execute_result"
    }
   ],
   "source": [
    "query = \"\"\"\n",
    "SELECT Country, COUNT(Country) as Total_count\n",
    "FROM salarysurvey\n",
    "WHERE State != ''\n",
    "GROUP BY Country\n",
    "ORDER BY Total_count DESC\n",
    "LIMIT 10\n",
    "\"\"\"\n",
    "res = con.execute(query).fetch_df()\n",
    "res"
   ]
  },
  {
   "cell_type": "markdown",
   "id": "026bb857-2912-4c71-a273-26e53f3cba0b",
   "metadata": {},
   "source": [
    "## Ibis"
   ]
  },
  {
   "cell_type": "markdown",
   "id": "99f8224a-edad-47c4-b13b-35a4c82341d7",
   "metadata": {},
   "source": [
    "## a. Maximum Number of States Selected"
   ]
  },
  {
   "cell_type": "code",
   "execution_count": 58,
   "id": "a2b69a39-08e0-4c3f-a059-52eb41746e6a",
   "metadata": {},
   "outputs": [],
   "source": [
    "import duckdb\n",
    "import ibis\n",
    "t = ibis.read_csv(\"aam-salary-survey.csv.gz\")\n",
    "# t"
   ]
  },
  {
   "cell_type": "code",
   "execution_count": 59,
   "id": "f1af4cc7-0e08-4b24-8edd-f02c1751400c",
   "metadata": {},
   "outputs": [],
   "source": [
    "ibis.options.interactive = True"
   ]
  },
  {
   "cell_type": "code",
   "execution_count": 60,
   "id": "5232ec4d",
   "metadata": {},
   "outputs": [],
   "source": [
    "# max_length = t.State.split(',').length()\n",
    "# max_indices = max_length.argmax(key = max_length)\n",
    "# max_indices = max_length.max()\n",
    "# max_length\n",
    "# res = t.filter(max_length == max_indices )\n",
    "# res['JobTitle', 'Salary'][:1]"
   ]
  },
  {
   "cell_type": "code",
   "execution_count": 61,
   "id": "3e71bfd1",
   "metadata": {},
   "outputs": [
    {
     "data": {
      "text/html": [
       "<pre style=\"white-space:pre;overflow-x:auto;line-height:normal;font-family:Menlo,'DejaVu Sans Mono',consolas,'Courier New',monospace\"></pre>\n"
      ],
      "text/plain": []
     },
     "metadata": {},
     "output_type": "display_data"
    },
    {
     "name": "stdout",
     "output_type": "stream",
     "text": [
      "\u001b[32m'Project Controls Consultant'\u001b[0m\n",
      "\n"
     ]
    },
    {
     "data": {
      "text/html": [
       "<pre style=\"white-space:pre;overflow-x:auto;line-height:normal;font-family:Menlo,'DejaVu Sans Mono',consolas,'Courier New',monospace\"></pre>\n"
      ],
      "text/plain": []
     },
     "metadata": {},
     "output_type": "display_data"
    },
    {
     "name": "stdout",
     "output_type": "stream",
     "text": [
      "\u001b[32m'125,000'\u001b[0m\n",
      "\n"
     ]
    }
   ],
   "source": [
    "data = t.mutate(State = t.State.split(',').length())\n",
    "print(data.JobTitle.argmax(data.State))\n",
    "print(data.Salary.argmax(data.State))"
   ]
  },
  {
   "cell_type": "markdown",
   "id": "66f62fb4",
   "metadata": {},
   "source": [
    "## b. Number of Participants Working in Illinois"
   ]
  },
  {
   "cell_type": "code",
   "execution_count": 62,
   "id": "b53a7945",
   "metadata": {},
   "outputs": [
    {
     "data": {
      "text/html": [
       "<pre style=\"white-space:pre;overflow-x:auto;line-height:normal;font-family:Menlo,'DejaVu Sans Mono',consolas,'Courier New',monospace\">┏━━━━━━━━━━┳━━━━━━━┓\n",
       "┃<span style=\"font-weight: bold\"> states   </span>┃<span style=\"font-weight: bold\"> count </span>┃\n",
       "┡━━━━━━━━━━╇━━━━━━━┩\n",
       "│ <span style=\"color: #000080; text-decoration-color: #000080; font-weight: bold\">string</span>   │ <span style=\"color: #000080; text-decoration-color: #000080; font-weight: bold\">int64</span> │\n",
       "├──────────┼───────┤\n",
       "│ Illinois │  <span style=\"color: #008080; text-decoration-color: #008080; font-weight: bold\">1216</span> │\n",
       "└──────────┴───────┘\n",
       "</pre>\n"
      ],
      "text/plain": [
       "┏━━━━━━━━━━┳━━━━━━━┓\n",
       "┃\u001b[1m \u001b[0m\u001b[1mstates\u001b[0m\u001b[1m  \u001b[0m\u001b[1m \u001b[0m┃\u001b[1m \u001b[0m\u001b[1mcount\u001b[0m\u001b[1m \u001b[0m┃\n",
       "┡━━━━━━━━━━╇━━━━━━━┩\n",
       "│ \u001b[1;34mstring\u001b[0m   │ \u001b[1;34mint64\u001b[0m │\n",
       "├──────────┼───────┤\n",
       "│ Illinois │  \u001b[1;36m1216\u001b[0m │\n",
       "└──────────┴───────┘"
      ]
     },
     "execution_count": 62,
     "metadata": {},
     "output_type": "execute_result"
    }
   ],
   "source": [
    "states = t.State.split(',').unnest().strip().name('states')\n",
    "sample_table = states.value_counts()\n",
    "sample_table.filter(sample_table.states == \"Illinois\")"
   ]
  },
  {
   "cell_type": "markdown",
   "id": "52d467b6",
   "metadata": {},
   "source": [
    "## c. Highest US Salary "
   ]
  },
  {
   "cell_type": "code",
   "execution_count": 63,
   "id": "6c6e5fd7",
   "metadata": {},
   "outputs": [
    {
     "data": {
      "text/html": [
       "<pre style=\"white-space:pre;overflow-x:auto;line-height:normal;font-family:Menlo,'DejaVu Sans Mono',consolas,'Courier New',monospace\"></pre>\n"
      ],
      "text/plain": []
     },
     "metadata": {},
     "output_type": "display_data"
    },
    {
     "data": {
      "text/plain": [
       "\u001b[1;36m102000000\u001b[0m"
      ]
     },
     "execution_count": 63,
     "metadata": {},
     "output_type": "execute_result"
    }
   ],
   "source": [
    "t_usd = t.filter(t.Currency == 'USD')\n",
    "t_usd.Salary.replace(\",\", \"\").cast('int64').max()"
   ]
  },
  {
   "cell_type": "markdown",
   "id": "50e43f96",
   "metadata": {},
   "source": [
    "## d. Latest Entry in 2021"
   ]
  },
  {
   "cell_type": "code",
   "execution_count": 66,
   "id": "f8a46380",
   "metadata": {},
   "outputs": [
    {
     "data": {
      "text/html": [
       "<pre style=\"white-space:pre;overflow-x:auto;line-height:normal;font-family:Menlo,'DejaVu Sans Mono',consolas,'Courier New',monospace\"></pre>\n"
      ],
      "text/plain": []
     },
     "metadata": {},
     "output_type": "display_data"
    },
    {
     "data": {
      "text/plain": [
       "\u001b[32m'85000'\u001b[0m"
      ]
     },
     "execution_count": 66,
     "metadata": {},
     "output_type": "execute_result"
    }
   ],
   "source": [
    "t = t.mutate(dateTimeObject = t.Timestamp.to_timestamp(\"%m/%d/%Y %H:%M:%S\"))\n",
    "t_2021 = t.filter(t[\"dateTimeObject\"].year() == 2021)\n",
    "# max_time_stamp = t_2021.dateTimeObject.argmax(t_2021.dateTimeObject)\n",
    "# t_2021.filter(t_2021.dateTimeObject == max_time_stamp)[\"Salary\"]\n",
    "t_2021.Salary.argmax(t_2021.dateTimeObject)"
   ]
  },
  {
   "cell_type": "markdown",
   "id": "e8113526",
   "metadata": {},
   "source": [
    "## e. Top 10 Ways to Identify the U.S."
   ]
  },
  {
   "cell_type": "code",
   "execution_count": 65,
   "id": "40b45552",
   "metadata": {},
   "outputs": [
    {
     "data": {
      "text/html": [
       "<pre style=\"white-space:pre;overflow-x:auto;line-height:normal;font-family:Menlo,'DejaVu Sans Mono',consolas,'Courier New',monospace\">┏━━━━━━━━━━━━━━━━━━━━━━━━━━┳━━━━━━━┓\n",
       "┃<span style=\"font-weight: bold\"> Country                  </span>┃<span style=\"font-weight: bold\"> count </span>┃\n",
       "┡━━━━━━━━━━━━━━━━━━━━━━━━━━╇━━━━━━━┩\n",
       "│ <span style=\"color: #000080; text-decoration-color: #000080; font-weight: bold\">string</span>                   │ <span style=\"color: #000080; text-decoration-color: #000080; font-weight: bold\">int64</span> │\n",
       "├──────────────────────────┼───────┤\n",
       "│ United States            │  <span style=\"color: #008080; text-decoration-color: #008080; font-weight: bold\">8885</span> │\n",
       "│ USA                      │  <span style=\"color: #008080; text-decoration-color: #008080; font-weight: bold\">7851</span> │\n",
       "│ US                       │  <span style=\"color: #008080; text-decoration-color: #008080; font-weight: bold\">2585</span> │\n",
       "│ United States            │   <span style=\"color: #008080; text-decoration-color: #008080; font-weight: bold\">657</span> │\n",
       "│ U.S.                     │   <span style=\"color: #008080; text-decoration-color: #008080; font-weight: bold\">571</span> │\n",
       "│ USA                      │   <span style=\"color: #008080; text-decoration-color: #008080; font-weight: bold\">464</span> │\n",
       "│ Usa                      │   <span style=\"color: #008080; text-decoration-color: #008080; font-weight: bold\">443</span> │\n",
       "│ United States of America │   <span style=\"color: #008080; text-decoration-color: #008080; font-weight: bold\">424</span> │\n",
       "│ United states            │   <span style=\"color: #008080; text-decoration-color: #008080; font-weight: bold\">205</span> │\n",
       "│ usa                      │   <span style=\"color: #008080; text-decoration-color: #008080; font-weight: bold\">182</span> │\n",
       "└──────────────────────────┴───────┘\n",
       "</pre>\n"
      ],
      "text/plain": [
       "┏━━━━━━━━━━━━━━━━━━━━━━━━━━┳━━━━━━━┓\n",
       "┃\u001b[1m \u001b[0m\u001b[1mCountry\u001b[0m\u001b[1m                 \u001b[0m\u001b[1m \u001b[0m┃\u001b[1m \u001b[0m\u001b[1mcount\u001b[0m\u001b[1m \u001b[0m┃\n",
       "┡━━━━━━━━━━━━━━━━━━━━━━━━━━╇━━━━━━━┩\n",
       "│ \u001b[1;34mstring\u001b[0m                   │ \u001b[1;34mint64\u001b[0m │\n",
       "├──────────────────────────┼───────┤\n",
       "│ United States            │  \u001b[1;36m8885\u001b[0m │\n",
       "│ USA                      │  \u001b[1;36m7851\u001b[0m │\n",
       "│ US                       │  \u001b[1;36m2585\u001b[0m │\n",
       "│ United States            │   \u001b[1;36m657\u001b[0m │\n",
       "│ U.S.                     │   \u001b[1;36m571\u001b[0m │\n",
       "│ USA                      │   \u001b[1;36m464\u001b[0m │\n",
       "│ Usa                      │   \u001b[1;36m443\u001b[0m │\n",
       "│ United States of America │   \u001b[1;36m424\u001b[0m │\n",
       "│ United states            │   \u001b[1;36m205\u001b[0m │\n",
       "│ usa                      │   \u001b[1;36m182\u001b[0m │\n",
       "└──────────────────────────┴───────┘"
      ]
     },
     "execution_count": 65,
     "metadata": {},
     "output_type": "execute_result"
    }
   ],
   "source": [
    "us_idf_table = t.filter(t.State != \"\")\n",
    "top_us_identifiers = us_idf_table.Country.value_counts()\n",
    "top_us_identifiers = top_us_identifiers.order_by([ibis.desc('count'), (top_us_identifiers.Country, False)]).limit(10)\n",
    "top_us_identifiers"
   ]
  },
  {
   "cell_type": "code",
   "execution_count": null,
   "id": "eda34a4a",
   "metadata": {},
   "outputs": [],
   "source": []
  }
 ],
 "metadata": {
  "kernelspec": {
   "display_name": "Python 3 (ipykernel)",
   "language": "python",
   "name": "python3"
  },
  "language_info": {
   "codemirror_mode": {
    "name": "ipython",
    "version": 3
   },
   "file_extension": ".py",
   "mimetype": "text/x-python",
   "name": "python",
   "nbconvert_exporter": "python",
   "pygments_lexer": "ipython3",
   "version": "3.9.13"
  }
 },
 "nbformat": 4,
 "nbformat_minor": 5
}
