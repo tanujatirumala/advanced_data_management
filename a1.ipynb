{
 "cells": [
  {
   "cell_type": "markdown",
   "metadata": {},
   "source": [
    " ## THIRUMALA LAXMI TANUJA\n"
   ]
  },
  {
   "cell_type": "code",
   "execution_count": 2,
   "metadata": {},
   "outputs": [],
   "source": [
    "# Download the data locally\n",
    "\n",
    "import os\n",
    "from urllib.request import urlretrieve\n",
    "import gzip\n",
    "\n",
    "# download the data if we don't have it locally\n",
    "url = \"http://faculty.cs.niu.edu/~dakoop/cs640-2023sp/a1/aam-salary-survey.csv.gz\"\n",
    "local_fname = \"aam-salary-survey.csv.gz\"\n",
    "if not os.path.exists(local_fname):\n",
    "    urlretrieve(url, local_fname)\n",
    "\n",
    "# very primtive way of reading the data\n",
    "# can be improved using csv library\n",
    "with gzip.open(local_fname,'rt',encoding=\"utf8\") as f:\n",
    "    records = f.readlines()\n",
    "field_names = records[0]\n",
    "records = records[1:]; # semi-colon supresses output"
   ]
  },
  {
   "cell_type": "code",
   "execution_count": 3,
   "metadata": {},
   "outputs": [
    {
     "data": {
      "text/plain": [
       "'Timestamp,Age,Industry,JobTitle,JobDetails,Salary,ExtraComp,Currency,CurrencyOther,IncomeDetails,Country,State,City,ExpOverall,ExpInField,Education,Gender,Race\\n'"
      ]
     },
     "execution_count": 3,
     "metadata": {},
     "output_type": "execute_result"
    }
   ],
   "source": [
    "# the names of the attributes\n",
    "field_names"
   ]
  },
  {
   "cell_type": "code",
   "execution_count": 4,
   "metadata": {},
   "outputs": [
    {
     "data": {
      "text/plain": [
       "'4/27/2021 11:02:10,25-34,Education (Higher Education),Research and Instruction Librarian,,\"55,000\",0,USD,,,United States,Massachusetts,Boston,5-7 years,5-7 years,Master\\'s degree,Woman,White\\n'"
      ]
     },
     "execution_count": 4,
     "metadata": {},
     "output_type": "execute_result"
    }
   ],
   "source": [
    "# the first record\n",
    "records[0]"
   ]
  },
  {
   "cell_type": "code",
   "execution_count": 5,
   "metadata": {},
   "outputs": [
    {
     "data": {
      "text/plain": [
       "'Research and Instruction Librarian'"
      ]
     },
     "execution_count": 5,
     "metadata": {},
     "output_type": "execute_result"
    }
   ],
   "source": [
    "# records[0]'s job title\n",
    "records[0].split(',')[3]"
   ]
  },
  {
   "cell_type": "markdown",
   "metadata": {},
   "source": [
    "## Part 1"
   ]
  },
  {
   "cell_type": "code",
   "execution_count": 6,
   "metadata": {},
   "outputs": [],
   "source": [
    "# do your work for Problem 1 here"
   ]
  },
  {
   "cell_type": "markdown",
   "metadata": {},
   "source": [
    "## 1. Number of Participants Working in Illinois "
   ]
  },
  {
   "cell_type": "code",
   "execution_count": 7,
   "metadata": {},
   "outputs": [
    {
     "name": "stdout",
     "output_type": "stream",
     "text": [
      "Number of participants working in Illinois is 1216\n"
     ]
    }
   ],
   "source": [
    "import csv\n",
    "with gzip.open(local_fname,'rt',encoding=\"utf8\") as f:\n",
    "    reader = csv.DictReader(f)\n",
    "    records = [r for r in reader]\n",
    "    state_count = 0\n",
    "    for r in records:\n",
    "        if  r['State'].find(\"Illinois\") != -1:\n",
    "            state_count += 1\n",
    "    print(f\"Number of participants working in Illinois is {state_count}\")"
   ]
  },
  {
   "cell_type": "markdown",
   "metadata": {},
   "source": [
    "## 2. Maximum Number of State Selected"
   ]
  },
  {
   "cell_type": "code",
   "execution_count": 8,
   "metadata": {},
   "outputs": [],
   "source": [
    "# records[0]"
   ]
  },
  {
   "cell_type": "code",
   "execution_count": 9,
   "metadata": {},
   "outputs": [
    {
     "name": "stdout",
     "output_type": "stream",
     "text": [
      "The job title and salary associated with the entry that has the most states selected are shown below\n",
      "Job Title : Project Controls Consultant\n",
      "Salary    : 125,000\n"
     ]
    },
    {
     "data": {
      "text/plain": [
       "11"
      ]
     },
     "execution_count": 9,
     "metadata": {},
     "output_type": "execute_result"
    }
   ],
   "source": [
    "maximum = 0\n",
    "job_title = \"\"\n",
    "salary = \"\"\n",
    "\n",
    "for r in records:\n",
    "    states = r['State'].split(',')\n",
    "    if len(states) > maximum:\n",
    "        maximum = len(states)\n",
    "        job_title = r['JobTitle']\n",
    "        salary = r['Salary']\n",
    "print(\"The job title and salary associated with the entry that has the most states selected are shown below\")\n",
    "print(f\"Job Title : {job_title}\")\n",
    "print(f\"Salary    : {salary}\") \n",
    "maximum"
   ]
  },
  {
   "cell_type": "markdown",
   "metadata": {},
   "source": [
    "## 3. Highest US Salary"
   ]
  },
  {
   "cell_type": "code",
   "execution_count": 278,
   "metadata": {},
   "outputs": [
    {
     "name": "stdout",
     "output_type": "stream",
     "text": [
      "Highest reported salary in US Dollars is 102000000 USD\n"
     ]
    }
   ],
   "source": [
    "highest_salary = 0\n",
    "for r in records:\n",
    "    if r['Currency'] == 'USD':\n",
    "        curr_salary = int(r['Salary'].replace(\",\", \"\"))\n",
    "        if curr_salary > highest_salary:\n",
    "            highest_salary = curr_salary     \n",
    "print(f\"Highest reported salary in US Dollars is {highest_salary} USD\")"
   ]
  },
  {
   "cell_type": "markdown",
   "metadata": {},
   "source": [
    "## 4. Latest Entry in 2021 "
   ]
  },
  {
   "cell_type": "code",
   "execution_count": 279,
   "metadata": {},
   "outputs": [
    {
     "name": "stdout",
     "output_type": "stream",
     "text": [
      "Salary associated with the last entry in 2021 is 85000 USD\n"
     ]
    }
   ],
   "source": [
    "from datetime import datetime\n",
    "# Initialising salary and latest_entry with miniumum values\n",
    "salary = 0 \n",
    "Currency = \"\"\n",
    "latest_entry = datetime.min\n",
    "for r in records:\n",
    "    time_string = r['Timestamp']\n",
    "    curr_data_time = datetime.strptime(time_string, \"%m/%d/%Y %H:%M:%S\")\n",
    "    # updating latest_entry when it is latest and the year is 2021\n",
    "    if curr_data_time > latest_entry and curr_data_time.year == 2021:\n",
    "        latest_entry = curr_data_time\n",
    "        salary = r['Salary']\n",
    "        currency = r['Currency']\n",
    "    \n",
    "print(f\"Salary associated with the last entry in 2021 is {salary} {currency}\")"
   ]
  },
  {
   "cell_type": "markdown",
   "metadata": {},
   "source": [
    "## 5. Top 10 Ways to Identify the U.S."
   ]
  },
  {
   "cell_type": "code",
   "execution_count": 280,
   "metadata": {},
   "outputs": [
    {
     "name": "stdout",
     "output_type": "stream",
     "text": [
      "The top ten ways to identify US is: \n",
      "\n",
      "'United States'\n",
      "'USA'\n",
      "'US'\n",
      "'United States '\n",
      "'U.S.'\n",
      "'USA '\n",
      "'Usa'\n",
      "'United States of America'\n",
      "'United states'\n",
      "'usa'\n"
     ]
    }
   ],
   "source": [
    "from collections import Counter\n",
    "us_identifiers  = []\n",
    "for r in records:\n",
    "    if r['State'] != \"\":\n",
    "        us_identifiers.append(r['Country'])\n",
    "us_identifiers_counter = Counter(us_identifiers)\n",
    "top_ten = us_identifiers_counter.most_common(10)\n",
    "print(\"The top ten ways to identify US is: \\n\")\n",
    "for t in top_ten:\n",
    "    print(f\"'{t[0]}'\")"
   ]
  },
  {
   "cell_type": "code",
   "execution_count": 281,
   "metadata": {},
   "outputs": [
    {
     "data": {
      "text/plain": [
       "[('United States', 8885),\n",
       " ('USA', 7851),\n",
       " ('US', 2585),\n",
       " ('United States ', 657),\n",
       " ('U.S.', 571),\n",
       " ('USA ', 464),\n",
       " ('Usa', 443),\n",
       " ('United States of America', 424),\n",
       " ('United states', 205),\n",
       " ('usa', 182)]"
      ]
     },
     "execution_count": 281,
     "metadata": {},
     "output_type": "execute_result"
    }
   ],
   "source": [
    "top_ten"
   ]
  },
  {
   "cell_type": "code",
   "execution_count": null,
   "metadata": {},
   "outputs": [],
   "source": []
  },
  {
   "cell_type": "code",
   "execution_count": null,
   "metadata": {},
   "outputs": [],
   "source": []
  },
  {
   "cell_type": "code",
   "execution_count": null,
   "metadata": {},
   "outputs": [],
   "source": []
  }
 ],
 "metadata": {
  "kernelspec": {
   "display_name": "Python 3 (ipykernel)",
   "language": "python",
   "name": "python3"
  },
  "language_info": {
   "codemirror_mode": {
    "name": "ipython",
    "version": 3
   },
   "file_extension": ".py",
   "mimetype": "text/x-python",
   "name": "python",
   "nbconvert_exporter": "python",
   "pygments_lexer": "ipython3",
   "version": "3.9.13"
  },
  "vscode": {
   "interpreter": {
    "hash": "c08148d59e9f93a0c72cbf1be496060b10c0534972c1cba077b3d77192643ff1"
   }
  }
 },
 "nbformat": 4,
 "nbformat_minor": 4
}
